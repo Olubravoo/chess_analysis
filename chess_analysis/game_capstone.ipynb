{
 "cells": [
  {
   "cell_type": "markdown",
   "id": "ec22af72",
   "metadata": {},
   "source": [
    "<img src='Chess.jpg' style = 'width:700px; height:400px'/>"
   ]
  },
  {
   "cell_type": "markdown",
   "id": "9cb1d671",
   "metadata": {},
   "source": [
    "  ### Meaning of the Acronym Word in Chess  Project\n",
    "  \n",
    "- FIDE-Average International Chess Federation \n",
    "- GMs-International Grandmaster\n",
    "- IMs-Life Master\"\n",
    "- FMs-FMs failed / aspiring to become IM \n",
    "- WGMs-Woman Grandmaster\n",
    "- WIMs Woman International Master\n",
    "- WFMs-Woman FIDE Master (WFM)\n",
    "- CM-Candidate Master\n",
    "- WCM-woman candidate master\n"
   ]
  },
  {
   "cell_type": "markdown",
   "id": "4c188c6a",
   "metadata": {},
   "source": [
    "### Importing  the necessary libraries"
   ]
  },
  {
   "cell_type": "code",
   "execution_count": 1,
   "id": "3352fbd7",
   "metadata": {},
   "outputs": [],
   "source": [
    "import seaborn as sns\n",
    "import numpy as np \n",
    "import pandas as pd \n",
    "import matplotlib.pyplot as plt \n",
    "%matplotlib inline  \n"
   ]
  },
  {
   "cell_type": "markdown",
   "id": "011f5b20",
   "metadata": {},
   "source": [
    "### Impporting the Data set into Jupyter"
   ]
  },
  {
   "cell_type": "code",
   "execution_count": 2,
   "id": "03ba3d7e",
   "metadata": {},
   "outputs": [],
   "source": [
    "CG=pd.read_csv('International_Chess_Stats.csv',index_col=False)"
   ]
  },
  {
   "cell_type": "markdown",
   "id": "33f42ca4",
   "metadata": {},
   "source": [
    "### Checking the head of the Data set"
   ]
  },
  {
   "cell_type": "code",
   "execution_count": 3,
   "id": "0d7b0a1c",
   "metadata": {},
   "outputs": [
    {
     "data": {
      "text/html": [
       "<div>\n",
       "<style scoped>\n",
       "    .dataframe tbody tr th:only-of-type {\n",
       "        vertical-align: middle;\n",
       "    }\n",
       "\n",
       "    .dataframe tbody tr th {\n",
       "        vertical-align: top;\n",
       "    }\n",
       "\n",
       "    .dataframe thead th {\n",
       "        text-align: right;\n",
       "    }\n",
       "</style>\n",
       "<table border=\"1\" class=\"dataframe\">\n",
       "  <thead>\n",
       "    <tr style=\"text-align: right;\">\n",
       "      <th></th>\n",
       "      <th>Unnamed: 0</th>\n",
       "      <th>#</th>\n",
       "      <th>Country</th>\n",
       "      <th>Flag</th>\n",
       "      <th>Num Players</th>\n",
       "      <th>Women</th>\n",
       "      <th>% of Women</th>\n",
       "      <th>FIDE Average</th>\n",
       "      <th>GMs</th>\n",
       "      <th>IMs</th>\n",
       "      <th>FMs</th>\n",
       "      <th>WGMs</th>\n",
       "      <th>WIMs</th>\n",
       "      <th>WFMs</th>\n",
       "      <th>Age Avg</th>\n",
       "    </tr>\n",
       "  </thead>\n",
       "  <tbody>\n",
       "    <tr>\n",
       "      <th>0</th>\n",
       "      <td>0</td>\n",
       "      <td>1</td>\n",
       "      <td>Russia</td>\n",
       "      <td>NaN</td>\n",
       "      <td>34497</td>\n",
       "      <td>5734</td>\n",
       "      <td>16.62</td>\n",
       "      <td>1666</td>\n",
       "      <td>236</td>\n",
       "      <td>522</td>\n",
       "      <td>1177</td>\n",
       "      <td>50</td>\n",
       "      <td>101</td>\n",
       "      <td>409</td>\n",
       "      <td>34</td>\n",
       "    </tr>\n",
       "    <tr>\n",
       "      <th>1</th>\n",
       "      <td>1</td>\n",
       "      <td>2</td>\n",
       "      <td>India</td>\n",
       "      <td>NaN</td>\n",
       "      <td>32735</td>\n",
       "      <td>3581</td>\n",
       "      <td>10.94</td>\n",
       "      <td>1275</td>\n",
       "      <td>64</td>\n",
       "      <td>114</td>\n",
       "      <td>83</td>\n",
       "      <td>9</td>\n",
       "      <td>41</td>\n",
       "      <td>42</td>\n",
       "      <td>27</td>\n",
       "    </tr>\n",
       "    <tr>\n",
       "      <th>2</th>\n",
       "      <td>2</td>\n",
       "      <td>3</td>\n",
       "      <td>Germany</td>\n",
       "      <td>NaN</td>\n",
       "      <td>26577</td>\n",
       "      <td>1751</td>\n",
       "      <td>6.59</td>\n",
       "      <td>1841</td>\n",
       "      <td>94</td>\n",
       "      <td>273</td>\n",
       "      <td>861</td>\n",
       "      <td>18</td>\n",
       "      <td>40</td>\n",
       "      <td>69</td>\n",
       "      <td>49</td>\n",
       "    </tr>\n",
       "    <tr>\n",
       "      <th>3</th>\n",
       "      <td>3</td>\n",
       "      <td>4</td>\n",
       "      <td>Spain</td>\n",
       "      <td>NaN</td>\n",
       "      <td>25009</td>\n",
       "      <td>1430</td>\n",
       "      <td>5.72</td>\n",
       "      <td>1429</td>\n",
       "      <td>55</td>\n",
       "      <td>134</td>\n",
       "      <td>365</td>\n",
       "      <td>2</td>\n",
       "      <td>14</td>\n",
       "      <td>37</td>\n",
       "      <td>42</td>\n",
       "    </tr>\n",
       "    <tr>\n",
       "      <th>4</th>\n",
       "      <td>4</td>\n",
       "      <td>5</td>\n",
       "      <td>France</td>\n",
       "      <td>NaN</td>\n",
       "      <td>23784</td>\n",
       "      <td>2143</td>\n",
       "      <td>9.01</td>\n",
       "      <td>1580</td>\n",
       "      <td>50</td>\n",
       "      <td>117</td>\n",
       "      <td>234</td>\n",
       "      <td>4</td>\n",
       "      <td>18</td>\n",
       "      <td>21</td>\n",
       "      <td>41</td>\n",
       "    </tr>\n",
       "    <tr>\n",
       "      <th>5</th>\n",
       "      <td>5</td>\n",
       "      <td>6</td>\n",
       "      <td>Poland</td>\n",
       "      <td>NaN</td>\n",
       "      <td>10596</td>\n",
       "      <td>1537</td>\n",
       "      <td>14.51</td>\n",
       "      <td>1622</td>\n",
       "      <td>45</td>\n",
       "      <td>105</td>\n",
       "      <td>172</td>\n",
       "      <td>9</td>\n",
       "      <td>30</td>\n",
       "      <td>39</td>\n",
       "      <td>37</td>\n",
       "    </tr>\n",
       "    <tr>\n",
       "      <th>6</th>\n",
       "      <td>6</td>\n",
       "      <td>7</td>\n",
       "      <td>Italy</td>\n",
       "      <td>NaN</td>\n",
       "      <td>10256</td>\n",
       "      <td>604</td>\n",
       "      <td>5.89</td>\n",
       "      <td>1621</td>\n",
       "      <td>16</td>\n",
       "      <td>45</td>\n",
       "      <td>161</td>\n",
       "      <td>0</td>\n",
       "      <td>1</td>\n",
       "      <td>13</td>\n",
       "      <td>44</td>\n",
       "    </tr>\n",
       "  </tbody>\n",
       "</table>\n",
       "</div>"
      ],
      "text/plain": [
       "   Unnamed: 0  #  Country  Flag  Num Players  Women  % of Women  FIDE Average  \\\n",
       "0           0  1   Russia   NaN        34497   5734       16.62          1666   \n",
       "1           1  2    India   NaN        32735   3581       10.94          1275   \n",
       "2           2  3  Germany   NaN        26577   1751        6.59          1841   \n",
       "3           3  4    Spain   NaN        25009   1430        5.72          1429   \n",
       "4           4  5   France   NaN        23784   2143        9.01          1580   \n",
       "5           5  6   Poland   NaN        10596   1537       14.51          1622   \n",
       "6           6  7    Italy   NaN        10256    604        5.89          1621   \n",
       "\n",
       "   GMs  IMs   FMs  WGMs  WIMs  WFMs  Age Avg  \n",
       "0  236  522  1177    50   101   409       34  \n",
       "1   64  114    83     9    41    42       27  \n",
       "2   94  273   861    18    40    69       49  \n",
       "3   55  134   365     2    14    37       42  \n",
       "4   50  117   234     4    18    21       41  \n",
       "5   45  105   172     9    30    39       37  \n",
       "6   16   45   161     0     1    13       44  "
      ]
     },
     "execution_count": 3,
     "metadata": {},
     "output_type": "execute_result"
    }
   ],
   "source": [
    "CG.head(7)"
   ]
  },
  {
   "cell_type": "markdown",
   "id": "1ccadfe6",
   "metadata": {},
   "source": [
    "### Checking for Missing Value "
   ]
  },
  {
   "cell_type": "code",
   "execution_count": 4,
   "id": "fbfcca85",
   "metadata": {
    "scrolled": true
   },
   "outputs": [
    {
     "data": {
      "text/plain": [
       "Unnamed: 0      False\n",
       "#               False\n",
       "Country          True\n",
       "Flag             True\n",
       "Num Players     False\n",
       "Women           False\n",
       "% of Women      False\n",
       "FIDE Average    False\n",
       "GMs             False\n",
       "IMs             False\n",
       "FMs             False\n",
       "WGMs            False\n",
       "WIMs            False\n",
       "WFMs            False\n",
       "Age Avg         False\n",
       "dtype: bool"
      ]
     },
     "execution_count": 4,
     "metadata": {},
     "output_type": "execute_result"
    }
   ],
   "source": [
    "CG.isna().any()"
   ]
  },
  {
   "cell_type": "code",
   "execution_count": 5,
   "id": "888c3d90",
   "metadata": {},
   "outputs": [
    {
     "data": {
      "text/plain": [
       "Unnamed: 0        0\n",
       "#                 0\n",
       "Country           2\n",
       "Flag            190\n",
       "Num Players       0\n",
       "Women             0\n",
       "% of Women        0\n",
       "FIDE Average      0\n",
       "GMs               0\n",
       "IMs               0\n",
       "FMs               0\n",
       "WGMs              0\n",
       "WIMs              0\n",
       "WFMs              0\n",
       "Age Avg           0\n",
       "dtype: int64"
      ]
     },
     "execution_count": 5,
     "metadata": {},
     "output_type": "execute_result"
    }
   ],
   "source": [
    "CG.isna().sum()"
   ]
  },
  {
   "cell_type": "markdown",
   "id": "5987e94f",
   "metadata": {},
   "source": [
    "### Droping  the missing value "
   ]
  },
  {
   "cell_type": "code",
   "execution_count": 6,
   "id": "195d5ca7",
   "metadata": {},
   "outputs": [],
   "source": [
    "CG = CG.loc[:, ~CG.columns.str.contains('^Unnamed')]\n",
    "CG = CG.drop ('Flag', axis=1)"
   ]
  },
  {
   "cell_type": "code",
   "execution_count": 7,
   "id": "5c12d484",
   "metadata": {},
   "outputs": [],
   "source": [
    "CG = CG.drop(\"#\", axis='columns')"
   ]
  },
  {
   "cell_type": "markdown",
   "id": "65215d2f",
   "metadata": {},
   "source": [
    "### Checking the head after droping the miss vlave "
   ]
  },
  {
   "cell_type": "code",
   "execution_count": 8,
   "id": "03c30833",
   "metadata": {},
   "outputs": [
    {
     "data": {
      "text/html": [
       "<div>\n",
       "<style scoped>\n",
       "    .dataframe tbody tr th:only-of-type {\n",
       "        vertical-align: middle;\n",
       "    }\n",
       "\n",
       "    .dataframe tbody tr th {\n",
       "        vertical-align: top;\n",
       "    }\n",
       "\n",
       "    .dataframe thead th {\n",
       "        text-align: right;\n",
       "    }\n",
       "</style>\n",
       "<table border=\"1\" class=\"dataframe\">\n",
       "  <thead>\n",
       "    <tr style=\"text-align: right;\">\n",
       "      <th></th>\n",
       "      <th>Country</th>\n",
       "      <th>Num Players</th>\n",
       "      <th>Women</th>\n",
       "      <th>% of Women</th>\n",
       "      <th>FIDE Average</th>\n",
       "      <th>GMs</th>\n",
       "      <th>IMs</th>\n",
       "      <th>FMs</th>\n",
       "      <th>WGMs</th>\n",
       "      <th>WIMs</th>\n",
       "      <th>WFMs</th>\n",
       "      <th>Age Avg</th>\n",
       "    </tr>\n",
       "  </thead>\n",
       "  <tbody>\n",
       "    <tr>\n",
       "      <th>0</th>\n",
       "      <td>Russia</td>\n",
       "      <td>34497</td>\n",
       "      <td>5734</td>\n",
       "      <td>16.62</td>\n",
       "      <td>1666</td>\n",
       "      <td>236</td>\n",
       "      <td>522</td>\n",
       "      <td>1177</td>\n",
       "      <td>50</td>\n",
       "      <td>101</td>\n",
       "      <td>409</td>\n",
       "      <td>34</td>\n",
       "    </tr>\n",
       "    <tr>\n",
       "      <th>1</th>\n",
       "      <td>India</td>\n",
       "      <td>32735</td>\n",
       "      <td>3581</td>\n",
       "      <td>10.94</td>\n",
       "      <td>1275</td>\n",
       "      <td>64</td>\n",
       "      <td>114</td>\n",
       "      <td>83</td>\n",
       "      <td>9</td>\n",
       "      <td>41</td>\n",
       "      <td>42</td>\n",
       "      <td>27</td>\n",
       "    </tr>\n",
       "    <tr>\n",
       "      <th>2</th>\n",
       "      <td>Germany</td>\n",
       "      <td>26577</td>\n",
       "      <td>1751</td>\n",
       "      <td>6.59</td>\n",
       "      <td>1841</td>\n",
       "      <td>94</td>\n",
       "      <td>273</td>\n",
       "      <td>861</td>\n",
       "      <td>18</td>\n",
       "      <td>40</td>\n",
       "      <td>69</td>\n",
       "      <td>49</td>\n",
       "    </tr>\n",
       "    <tr>\n",
       "      <th>3</th>\n",
       "      <td>Spain</td>\n",
       "      <td>25009</td>\n",
       "      <td>1430</td>\n",
       "      <td>5.72</td>\n",
       "      <td>1429</td>\n",
       "      <td>55</td>\n",
       "      <td>134</td>\n",
       "      <td>365</td>\n",
       "      <td>2</td>\n",
       "      <td>14</td>\n",
       "      <td>37</td>\n",
       "      <td>42</td>\n",
       "    </tr>\n",
       "    <tr>\n",
       "      <th>4</th>\n",
       "      <td>France</td>\n",
       "      <td>23784</td>\n",
       "      <td>2143</td>\n",
       "      <td>9.01</td>\n",
       "      <td>1580</td>\n",
       "      <td>50</td>\n",
       "      <td>117</td>\n",
       "      <td>234</td>\n",
       "      <td>4</td>\n",
       "      <td>18</td>\n",
       "      <td>21</td>\n",
       "      <td>41</td>\n",
       "    </tr>\n",
       "  </tbody>\n",
       "</table>\n",
       "</div>"
      ],
      "text/plain": [
       "   Country  Num Players  Women  % of Women  FIDE Average  GMs  IMs   FMs  \\\n",
       "0   Russia        34497   5734       16.62          1666  236  522  1177   \n",
       "1    India        32735   3581       10.94          1275   64  114    83   \n",
       "2  Germany        26577   1751        6.59          1841   94  273   861   \n",
       "3    Spain        25009   1430        5.72          1429   55  134   365   \n",
       "4   France        23784   2143        9.01          1580   50  117   234   \n",
       "\n",
       "   WGMs  WIMs  WFMs  Age Avg  \n",
       "0    50   101   409       34  \n",
       "1     9    41    42       27  \n",
       "2    18    40    69       49  \n",
       "3     2    14    37       42  \n",
       "4     4    18    21       41  "
      ]
     },
     "execution_count": 8,
     "metadata": {},
     "output_type": "execute_result"
    }
   ],
   "source": [
    "CG.head()"
   ]
  },
  {
   "cell_type": "markdown",
   "id": "a11b81b2",
   "metadata": {},
   "source": [
    "### Checking if there is still more missing values "
   ]
  },
  {
   "cell_type": "code",
   "execution_count": 9,
   "id": "87bb94dd",
   "metadata": {},
   "outputs": [],
   "source": [
    "CG= CG.dropna()"
   ]
  },
  {
   "cell_type": "code",
   "execution_count": 10,
   "id": "7508bc14",
   "metadata": {},
   "outputs": [
    {
     "data": {
      "text/plain": [
       "Country         False\n",
       "Num Players     False\n",
       "Women           False\n",
       "% of Women      False\n",
       "FIDE Average    False\n",
       "GMs             False\n",
       "IMs             False\n",
       "FMs             False\n",
       "WGMs            False\n",
       "WIMs            False\n",
       "WFMs            False\n",
       "Age Avg         False\n",
       "dtype: bool"
      ]
     },
     "execution_count": 10,
     "metadata": {},
     "output_type": "execute_result"
    }
   ],
   "source": [
    "CG.isna().any()"
   ]
  },
  {
   "cell_type": "markdown",
   "id": "cd44d515",
   "metadata": {},
   "source": [
    "### Checking the data structure of the data set "
   ]
  },
  {
   "cell_type": "code",
   "execution_count": 11,
   "id": "538618f8",
   "metadata": {},
   "outputs": [
    {
     "data": {
      "text/plain": [
       "Country          object\n",
       "Num Players       int64\n",
       "Women             int64\n",
       "% of Women      float64\n",
       "FIDE Average      int64\n",
       "GMs               int64\n",
       "IMs               int64\n",
       "FMs               int64\n",
       "WGMs              int64\n",
       "WIMs              int64\n",
       "WFMs              int64\n",
       "Age Avg           int64\n",
       "dtype: object"
      ]
     },
     "execution_count": 11,
     "metadata": {},
     "output_type": "execute_result"
    }
   ],
   "source": [
    "CG.dtypes"
   ]
  },
  {
   "cell_type": "markdown",
   "id": "10cf3c40",
   "metadata": {},
   "source": [
    "### General statistics of the data set"
   ]
  },
  {
   "cell_type": "code",
   "execution_count": 12,
   "id": "f759e04f",
   "metadata": {},
   "outputs": [
    {
     "data": {
      "text/html": [
       "<div>\n",
       "<style scoped>\n",
       "    .dataframe tbody tr th:only-of-type {\n",
       "        vertical-align: middle;\n",
       "    }\n",
       "\n",
       "    .dataframe tbody tr th {\n",
       "        vertical-align: top;\n",
       "    }\n",
       "\n",
       "    .dataframe thead th {\n",
       "        text-align: right;\n",
       "    }\n",
       "</style>\n",
       "<table border=\"1\" class=\"dataframe\">\n",
       "  <thead>\n",
       "    <tr style=\"text-align: right;\">\n",
       "      <th></th>\n",
       "      <th>Num Players</th>\n",
       "      <th>Women</th>\n",
       "      <th>% of Women</th>\n",
       "      <th>FIDE Average</th>\n",
       "      <th>GMs</th>\n",
       "      <th>IMs</th>\n",
       "      <th>FMs</th>\n",
       "      <th>WGMs</th>\n",
       "      <th>WIMs</th>\n",
       "      <th>WFMs</th>\n",
       "      <th>Age Avg</th>\n",
       "    </tr>\n",
       "  </thead>\n",
       "  <tbody>\n",
       "    <tr>\n",
       "      <th>count</th>\n",
       "      <td>188.000000</td>\n",
       "      <td>188.000000</td>\n",
       "      <td>188.000000</td>\n",
       "      <td>188.000000</td>\n",
       "      <td>188.000000</td>\n",
       "      <td>188.000000</td>\n",
       "      <td>188.000000</td>\n",
       "      <td>188.000000</td>\n",
       "      <td>188.000000</td>\n",
       "      <td>188.000000</td>\n",
       "      <td>188.000000</td>\n",
       "    </tr>\n",
       "    <tr>\n",
       "      <th>mean</th>\n",
       "      <td>1851.632979</td>\n",
       "      <td>197.750000</td>\n",
       "      <td>11.820638</td>\n",
       "      <td>1634.659574</td>\n",
       "      <td>9.074468</td>\n",
       "      <td>20.462766</td>\n",
       "      <td>42.750000</td>\n",
       "      <td>1.654255</td>\n",
       "      <td>4.351064</td>\n",
       "      <td>9.106383</td>\n",
       "      <td>36.739362</td>\n",
       "    </tr>\n",
       "    <tr>\n",
       "      <th>std</th>\n",
       "      <td>4870.425325</td>\n",
       "      <td>561.516593</td>\n",
       "      <td>8.239526</td>\n",
       "      <td>166.601067</td>\n",
       "      <td>23.446031</td>\n",
       "      <td>51.465514</td>\n",
       "      <td>118.988546</td>\n",
       "      <td>4.853207</td>\n",
       "      <td>10.010911</td>\n",
       "      <td>31.322872</td>\n",
       "      <td>8.267658</td>\n",
       "    </tr>\n",
       "    <tr>\n",
       "      <th>min</th>\n",
       "      <td>2.000000</td>\n",
       "      <td>0.000000</td>\n",
       "      <td>0.000000</td>\n",
       "      <td>1141.000000</td>\n",
       "      <td>0.000000</td>\n",
       "      <td>0.000000</td>\n",
       "      <td>0.000000</td>\n",
       "      <td>0.000000</td>\n",
       "      <td>0.000000</td>\n",
       "      <td>0.000000</td>\n",
       "      <td>21.000000</td>\n",
       "    </tr>\n",
       "    <tr>\n",
       "      <th>25%</th>\n",
       "      <td>47.750000</td>\n",
       "      <td>6.000000</td>\n",
       "      <td>5.935000</td>\n",
       "      <td>1544.500000</td>\n",
       "      <td>0.000000</td>\n",
       "      <td>0.000000</td>\n",
       "      <td>2.000000</td>\n",
       "      <td>0.000000</td>\n",
       "      <td>0.000000</td>\n",
       "      <td>0.000000</td>\n",
       "      <td>31.000000</td>\n",
       "    </tr>\n",
       "    <tr>\n",
       "      <th>50%</th>\n",
       "      <td>298.500000</td>\n",
       "      <td>33.500000</td>\n",
       "      <td>10.785000</td>\n",
       "      <td>1651.000000</td>\n",
       "      <td>0.000000</td>\n",
       "      <td>3.000000</td>\n",
       "      <td>8.500000</td>\n",
       "      <td>0.000000</td>\n",
       "      <td>0.500000</td>\n",
       "      <td>3.000000</td>\n",
       "      <td>36.000000</td>\n",
       "    </tr>\n",
       "    <tr>\n",
       "      <th>75%</th>\n",
       "      <td>1228.750000</td>\n",
       "      <td>181.500000</td>\n",
       "      <td>17.402500</td>\n",
       "      <td>1742.000000</td>\n",
       "      <td>8.250000</td>\n",
       "      <td>22.000000</td>\n",
       "      <td>30.250000</td>\n",
       "      <td>1.000000</td>\n",
       "      <td>4.000000</td>\n",
       "      <td>9.000000</td>\n",
       "      <td>41.250000</td>\n",
       "    </tr>\n",
       "    <tr>\n",
       "      <th>max</th>\n",
       "      <td>34497.000000</td>\n",
       "      <td>5734.000000</td>\n",
       "      <td>37.500000</td>\n",
       "      <td>2250.000000</td>\n",
       "      <td>236.000000</td>\n",
       "      <td>522.000000</td>\n",
       "      <td>1177.000000</td>\n",
       "      <td>50.000000</td>\n",
       "      <td>101.000000</td>\n",
       "      <td>409.000000</td>\n",
       "      <td>63.000000</td>\n",
       "    </tr>\n",
       "  </tbody>\n",
       "</table>\n",
       "</div>"
      ],
      "text/plain": [
       "        Num Players        Women  % of Women  FIDE Average         GMs  \\\n",
       "count    188.000000   188.000000  188.000000    188.000000  188.000000   \n",
       "mean    1851.632979   197.750000   11.820638   1634.659574    9.074468   \n",
       "std     4870.425325   561.516593    8.239526    166.601067   23.446031   \n",
       "min        2.000000     0.000000    0.000000   1141.000000    0.000000   \n",
       "25%       47.750000     6.000000    5.935000   1544.500000    0.000000   \n",
       "50%      298.500000    33.500000   10.785000   1651.000000    0.000000   \n",
       "75%     1228.750000   181.500000   17.402500   1742.000000    8.250000   \n",
       "max    34497.000000  5734.000000   37.500000   2250.000000  236.000000   \n",
       "\n",
       "              IMs          FMs        WGMs        WIMs        WFMs     Age Avg  \n",
       "count  188.000000   188.000000  188.000000  188.000000  188.000000  188.000000  \n",
       "mean    20.462766    42.750000    1.654255    4.351064    9.106383   36.739362  \n",
       "std     51.465514   118.988546    4.853207   10.010911   31.322872    8.267658  \n",
       "min      0.000000     0.000000    0.000000    0.000000    0.000000   21.000000  \n",
       "25%      0.000000     2.000000    0.000000    0.000000    0.000000   31.000000  \n",
       "50%      3.000000     8.500000    0.000000    0.500000    3.000000   36.000000  \n",
       "75%     22.000000    30.250000    1.000000    4.000000    9.000000   41.250000  \n",
       "max    522.000000  1177.000000   50.000000  101.000000  409.000000   63.000000  "
      ]
     },
     "execution_count": 12,
     "metadata": {},
     "output_type": "execute_result"
    }
   ],
   "source": [
    "CG.describe()"
   ]
  },
  {
   "cell_type": "markdown",
   "id": "d26ea997",
   "metadata": {},
   "source": [
    "### EDA (Exploratory Data Analysis)"
   ]
  },
  {
   "cell_type": "markdown",
   "id": "6b229dc0",
   "metadata": {},
   "source": [
    "### Checking the Country again the number of each Country  Players "
   ]
  },
  {
   "cell_type": "markdown",
   "id": "3d33fd67",
   "metadata": {},
   "source": [
    "## Data Head After Cleaning "
   ]
  },
  {
   "cell_type": "code",
   "execution_count": 13,
   "id": "66086720",
   "metadata": {},
   "outputs": [
    {
     "data": {
      "text/html": [
       "<div>\n",
       "<style scoped>\n",
       "    .dataframe tbody tr th:only-of-type {\n",
       "        vertical-align: middle;\n",
       "    }\n",
       "\n",
       "    .dataframe tbody tr th {\n",
       "        vertical-align: top;\n",
       "    }\n",
       "\n",
       "    .dataframe thead th {\n",
       "        text-align: right;\n",
       "    }\n",
       "</style>\n",
       "<table border=\"1\" class=\"dataframe\">\n",
       "  <thead>\n",
       "    <tr style=\"text-align: right;\">\n",
       "      <th></th>\n",
       "      <th>Country</th>\n",
       "      <th>Num Players</th>\n",
       "      <th>Women</th>\n",
       "      <th>% of Women</th>\n",
       "      <th>FIDE Average</th>\n",
       "      <th>GMs</th>\n",
       "      <th>IMs</th>\n",
       "      <th>FMs</th>\n",
       "      <th>WGMs</th>\n",
       "      <th>WIMs</th>\n",
       "      <th>WFMs</th>\n",
       "      <th>Age Avg</th>\n",
       "    </tr>\n",
       "  </thead>\n",
       "  <tbody>\n",
       "    <tr>\n",
       "      <th>0</th>\n",
       "      <td>Russia</td>\n",
       "      <td>34497</td>\n",
       "      <td>5734</td>\n",
       "      <td>16.62</td>\n",
       "      <td>1666</td>\n",
       "      <td>236</td>\n",
       "      <td>522</td>\n",
       "      <td>1177</td>\n",
       "      <td>50</td>\n",
       "      <td>101</td>\n",
       "      <td>409</td>\n",
       "      <td>34</td>\n",
       "    </tr>\n",
       "    <tr>\n",
       "      <th>1</th>\n",
       "      <td>India</td>\n",
       "      <td>32735</td>\n",
       "      <td>3581</td>\n",
       "      <td>10.94</td>\n",
       "      <td>1275</td>\n",
       "      <td>64</td>\n",
       "      <td>114</td>\n",
       "      <td>83</td>\n",
       "      <td>9</td>\n",
       "      <td>41</td>\n",
       "      <td>42</td>\n",
       "      <td>27</td>\n",
       "    </tr>\n",
       "    <tr>\n",
       "      <th>2</th>\n",
       "      <td>Germany</td>\n",
       "      <td>26577</td>\n",
       "      <td>1751</td>\n",
       "      <td>6.59</td>\n",
       "      <td>1841</td>\n",
       "      <td>94</td>\n",
       "      <td>273</td>\n",
       "      <td>861</td>\n",
       "      <td>18</td>\n",
       "      <td>40</td>\n",
       "      <td>69</td>\n",
       "      <td>49</td>\n",
       "    </tr>\n",
       "    <tr>\n",
       "      <th>3</th>\n",
       "      <td>Spain</td>\n",
       "      <td>25009</td>\n",
       "      <td>1430</td>\n",
       "      <td>5.72</td>\n",
       "      <td>1429</td>\n",
       "      <td>55</td>\n",
       "      <td>134</td>\n",
       "      <td>365</td>\n",
       "      <td>2</td>\n",
       "      <td>14</td>\n",
       "      <td>37</td>\n",
       "      <td>42</td>\n",
       "    </tr>\n",
       "    <tr>\n",
       "      <th>4</th>\n",
       "      <td>France</td>\n",
       "      <td>23784</td>\n",
       "      <td>2143</td>\n",
       "      <td>9.01</td>\n",
       "      <td>1580</td>\n",
       "      <td>50</td>\n",
       "      <td>117</td>\n",
       "      <td>234</td>\n",
       "      <td>4</td>\n",
       "      <td>18</td>\n",
       "      <td>21</td>\n",
       "      <td>41</td>\n",
       "    </tr>\n",
       "  </tbody>\n",
       "</table>\n",
       "</div>"
      ],
      "text/plain": [
       "   Country  Num Players  Women  % of Women  FIDE Average  GMs  IMs   FMs  \\\n",
       "0   Russia        34497   5734       16.62          1666  236  522  1177   \n",
       "1    India        32735   3581       10.94          1275   64  114    83   \n",
       "2  Germany        26577   1751        6.59          1841   94  273   861   \n",
       "3    Spain        25009   1430        5.72          1429   55  134   365   \n",
       "4   France        23784   2143        9.01          1580   50  117   234   \n",
       "\n",
       "   WGMs  WIMs  WFMs  Age Avg  \n",
       "0    50   101   409       34  \n",
       "1     9    41    42       27  \n",
       "2    18    40    69       49  \n",
       "3     2    14    37       42  \n",
       "4     4    18    21       41  "
      ]
     },
     "execution_count": 13,
     "metadata": {},
     "output_type": "execute_result"
    }
   ],
   "source": [
    "CG.head()"
   ]
  },
  {
   "cell_type": "markdown",
   "id": "82efca3a",
   "metadata": {},
   "source": [
    "#### Country havuing the  most player "
   ]
  },
  {
   "cell_type": "code",
   "execution_count": 14,
   "id": "41c52a8b",
   "metadata": {},
   "outputs": [
    {
     "name": "stdout",
     "output_type": "stream",
     "text": [
      "Netherlands Antilles    2\n",
      "Brunei                  2\n",
      "Russia                  1\n",
      "Palau                   1\n",
      "Oman                    1\n",
      "Name: Country, dtype: int64\n"
     ]
    }
   ],
   "source": [
    "# count of the player by country \n",
    "country_counts = CG['Country']. value_counts()\n",
    "\n",
    "# Display top countries with the most players\n",
    "print (country_counts.head())"
   ]
  },
  {
   "cell_type": "code",
   "execution_count": 15,
   "id": "f883109a",
   "metadata": {},
   "outputs": [
    {
     "data": {
      "image/png": "[encoded data removed]",
      "text/plain": [
       "<Figure size 720x432 with 1 Axes>"
      ]
     },
     "metadata": {
      "needs_background": "light"
     },
     "output_type": "display_data"
    }
   ],
   "source": [
    "# plotting the distribution of women percentage\n",
    "plt.figure(figsize=(10,6))\n",
    "plt.hist(CG['% of Women'], bins=20, color='skyblue', edgecolor='black')\n",
    "plt.title('Distribution of Women Percentage')\n",
    "plt.xlabel('% of Women')\n",
    "plt.ylabel('Frequency')\n",
    "plt.show()\n",
    "\n"
   ]
  },
  {
   "cell_type": "code",
   "execution_count": 16,
   "id": "e3488f9c",
   "metadata": {},
   "outputs": [
    {
     "data": {
      "text/plain": [
       "<function matplotlib.pyplot.show(close=None, block=None)>"
      ]
     },
     "execution_count": 16,
     "metadata": {},
     "output_type": "execute_result"
    },
    {
     "data": {
      "image/png": "[encoded data removed]",
      "text/plain": [
       "<Figure size 720x432 with 1 Axes>"
      ]
     },
     "metadata": {
      "needs_background": "light"
     },
     "output_type": "display_data"
    }
   ],
   "source": [
    "# Plotting the distribution of avarage age \n",
    "plt. figure(figsize=(10,6))\n",
    "plt.hist(CG['Age Avg'], bins=20, color='salmon', edgecolor='black')\n",
    "plt.title('Distributation of Average Age')\n",
    "plt.xlabel('Average Age')\n",
    "plt.ylabel('Frequency')\n",
    "plt.show\n"
   ]
  },
  {
   "cell_type": "code",
   "execution_count": 17,
   "id": "61172623",
   "metadata": {},
   "outputs": [
    {
     "data": {
      "image/png": "[encoded data removed]",
      "text/plain": [
       "<Figure size 864x576 with 2 Axes>"
      ]
     },
     "metadata": {
      "needs_background": "light"
     },
     "output_type": "display_data"
    }
   ],
   "source": [
    "# Correlation matrix\n",
    "\n",
    "correlation_matrix = CG.corr()\n",
    "\n",
    "# Heatmap of the correlation matrix\n",
    "plt.figure(figsize=(12,8))\n",
    "sns.heatmap(correlation_matrix, annot=True, cmap='coolwarm',linewidths=.5)\n",
    "plt.title('Correlation Matrix')\n",
    "plt.show()"
   ]
  },
  {
   "cell_type": "code",
   "execution_count": 18,
   "id": "92712fba",
   "metadata": {},
   "outputs": [
    {
     "name": "stdout",
     "output_type": "stream",
     "text": [
      "Country\n",
      "Cambodia       2250.0\n",
      "South Sudan    1961.0\n",
      "Kosovo         1923.0\n",
      "Nigeria        1899.0\n",
      "Myanmar        1891.0\n",
      "Name: FIDE Average, dtype: float64\n"
     ]
    }
   ],
   "source": [
    "# Top countries by average FIDE rating\n",
    "top_countries_by_rating =CG.groupby ('Country')['FIDE Average']. mean().sort_values(ascending=False)\n",
    "\n",
    "# Display top countries\n",
    "print(top_countries_by_rating.head())\n",
    "\n",
    "\n",
    "\n",
    "\n",
    "\n"
   ]
  },
  {
   "cell_type": "code",
   "execution_count": null,
   "id": "2293c903",
   "metadata": {},
   "outputs": [],
   "source": []
  },
  {
   "cell_type": "code",
   "execution_count": 19,
   "id": "44cbc3a4",
   "metadata": {},
   "outputs": [
    {
     "name": "stdout",
     "output_type": "stream",
     "text": [
      "Country\n",
      "Russia           236\n",
      "United States     95\n",
      "Germany           94\n",
      "Ukraine           89\n",
      "India             64\n",
      "Name: GMs, dtype: int64\n"
     ]
    }
   ],
   "source": [
    "# Top countries by number of Grandmasters (GMs)\n",
    "top_countries_by_gms = CG.groupby('Country')['GMs'].sum().sort_values(ascending=False)\n",
    "\n",
    "# Display top countries\n",
    "print(top_countries_by_gms.head())\n"
   ]
  },
  {
   "cell_type": "code",
   "execution_count": 20,
   "id": "6fa848c7",
   "metadata": {},
   "outputs": [
    {
     "name": "stdout",
     "output_type": "stream",
     "text": [
      "Country\n",
      "Russia     34497\n",
      "India      32735\n",
      "Germany    26577\n",
      "Spain      25009\n",
      "France     23784\n",
      "Name: Num Players, dtype: int64\n"
     ]
    }
   ],
   "source": [
    "# Number of player by country\n",
    "players_by_country =CG.groupby('Country') ['Num Players'].sum().sort_values(ascending =False)\n",
    "\n",
    "# display top countries with the most players \n",
    "print(players_by_country.head())\n"
   ]
  },
  {
   "cell_type": "code",
   "execution_count": null,
   "id": "1e1dc2ff",
   "metadata": {},
   "outputs": [],
   "source": []
  },
  {
   "cell_type": "code",
   "execution_count": 21,
   "id": "b5cb3009",
   "metadata": {},
   "outputs": [
    {
     "data": {
      "image/png": "[encoded data removed]",
      "text/plain": [
       "<Figure size 1152x576 with 1 Axes>"
      ]
     },
     "metadata": {},
     "output_type": "display_data"
    }
   ],
   "source": [
    "\n",
    "# Set Seaborn style\n",
    "sns.set(style=\"whitegrid\")\n",
    "\n",
    "# Plotting the distribution of GMs, IMs, FMs\n",
    "plt.figure(figsize=(16, 8))\n",
    "ax = sns.barplot(data=CG[['GMs', 'IMs', 'FMs']], palette=\"muted\", ci=None)\n",
    "\n",
    "# Customize the plot\n",
    "ax.set_title('Distribution of GMs, IMs, FMs by Country')\n",
    "ax.set_xlabel('Country')\n",
    "ax.set_ylabel('Count')\n",
    "\n",
    "# Rotate x-axis labels for better readability\n",
    "ax.set_xticklabels(ax.get_xticklabels(), rotation=45, ha='right', fontsize=10)\n",
    "\n",
    "plt.tight_layout()\n",
    "plt.show()\n",
    "\n"
   ]
  },
  {
   "cell_type": "markdown",
   "id": "852ff95b",
   "metadata": {},
   "source": [
    "### Machine Learning \n",
    "Would be Predicting the average FIDE rating this will be base on the bassed on the certain features from the table. "
   ]
  },
  {
   "cell_type": "code",
   "execution_count": 22,
   "id": "aa5a3af8",
   "metadata": {},
   "outputs": [
    {
     "name": "stdout",
     "output_type": "stream",
     "text": [
      "Mean Squared Error: 26067.279912831626\n"
     ]
    }
   ],
   "source": [
    "from sklearn.model_selection import train_test_split\n",
    "from sklearn.linear_model import LinearRegression\n",
    "from sklearn.metrics import mean_squared_error\n",
    "\n",
    "# Features (X) and target variable (y)\n",
    "X = CG[['Num Players', 'Women', '% of Women', 'GMs', 'IMs', 'FMs', 'WGMs', 'WIMs', 'WFMs', 'Age Avg']]\n",
    "y = CG['FIDE Average']\n",
    "\n",
    "# Split the data into training and testing sets\n",
    "X_train, X_test, y_train, y_test = train_test_split(X, y, test_size=0.2, random_state=42)\n",
    "\n",
    "# Initialize the model\n",
    "model = LinearRegression()\n",
    "\n",
    "# Fit the model to the training data\n",
    "model.fit(X_train, y_train)\n",
    "\n",
    "# Make predictions on the test set\n",
    "predictions = model.predict(X_test)\n",
    "\n",
    "# Evaluate the model\n",
    "mse = mean_squared_error(y_test, predictions)\n",
    "print(f'Mean Squared Error: {mse}')\n"
   ]
  },
  {
   "cell_type": "code",
   "execution_count": null,
   "id": "207b8914",
   "metadata": {},
   "outputs": [],
   "source": []
  },
  {
   "cell_type": "code",
   "execution_count": 23,
   "id": "e823c780",
   "metadata": {},
   "outputs": [
    {
     "name": "stdout",
     "output_type": "stream",
     "text": [
      "Mean Squared Error: 26067.279912831626\n",
      "R-squared: 0.12962237949543576\n",
      "Mean Absolute Error: 117.53287571205537\n"
     ]
    }
   ],
   "source": [
    "from sklearn.metrics import mean_squared_error, r2_score, mean_absolute_error\n",
    "\n",
    "# Evaluate the model\n",
    "mse = mean_squared_error(y_test, predictions)\n",
    "r2 = r2_score(y_test, predictions)\n",
    "mae = mean_absolute_error(y_test, predictions)\n",
    "\n",
    "print(f'Mean Squared Error: {mse}')\n",
    "print(f'R-squared: {r2}')\n",
    "print(f'Mean Absolute Error: {mae}')\n"
   ]
  },
  {
   "cell_type": "code",
   "execution_count": 26,
   "id": "50fa93b5",
   "metadata": {},
   "outputs": [
    {
     "name": "stdout",
     "output_type": "stream",
     "text": [
      "Best Hyperparameters: {'max_depth': None, 'min_samples_leaf': 1, 'min_samples_split': 5, 'n_estimators': 100}\n",
      "Random Forest Mean Squared Error: 29633.760335212628\n",
      "Random Forest R-squared: 0.0105388098253969\n",
      "Random Forest Mean Absolute Error: 126.54422822207023\n"
     ]
    }
   ],
   "source": [
    "from sklearn.ensemble import RandomForestRegressor\n",
    "from sklearn.model_selection import GridSearchCV\n",
    "from sklearn.metrics import mean_squared_error, r2_score, mean_absolute_error\n",
    "\n",
    "# Features (X) and target variable (y)\n",
    "X = CG[['Num Players', 'Women', '% of Women', 'GMs', 'IMs', 'FMs', 'WGMs', 'WIMs', 'WFMs', 'Age Avg']]\n",
    "y = CG['FIDE Average']\n",
    "\n",
    "# Split the data into training and testing sets\n",
    "X_train, X_test, y_train, y_test = train_test_split(X, y, test_size=0.2, random_state=42)\n",
    "\n",
    "# Initialize the Random Forest Regressor\n",
    "rf_model = RandomForestRegressor()\n",
    "\n",
    "# Define hyperparameters to tune\n",
    "param_grid = {\n",
    "    'n_estimators': [50, 100, 200],\n",
    "    'max_depth': [None, 10, 20],\n",
    "    'min_samples_split': [2, 5, 10],\n",
    "    'min_samples_leaf': [1, 2, 4]\n",
    "}\n",
    "\n",
    "# Perform GridSearchCV for hyperparameter tuning\n",
    "grid_search = GridSearchCV(estimator=rf_model, param_grid=param_grid, cv=5, scoring='neg_mean_squared_error')\n",
    "grid_search.fit(X_train, y_train)\n",
    "\n",
    "# Get the best parameters\n",
    "best_params = grid_search.best_params_\n",
    "print(f'Best Hyperparameters: {best_params}')\n",
    "\n",
    "# Use the best model from GridSearchCV\n",
    "best_rf_model = grid_search.best_estimator_\n",
    "\n",
    "# Make predictions on the test set\n",
    "rf_predictions = best_rf_model.predict(X_test)\n",
    "\n",
    "# Evaluate the model\n",
    "rf_mse = mean_squared_error(y_test, rf_predictions)\n",
    "rf_r2 = r2_score(y_test, rf_predictions)\n",
    "rf_mae = mean_absolute_error(y_test, rf_predictions)\n",
    "\n",
    "print(f'Random Forest Mean Squared Error: {rf_mse}')\n",
    "print(f'Random Forest R-squared: {rf_r2}')\n",
    "print(f'Random Forest Mean Absolute Error: {rf_mae}')\n"
   ]
  },
  {
   "cell_type": "code",
   "execution_count": null,
   "id": "b5569e2d",
   "metadata": {},
   "outputs": [],
   "source": []
  },
  {
   "cell_type": "code",
   "execution_count": 25,
   "id": "afd9e6ea",
   "metadata": {},
   "outputs": [
    {
     "name": "stdout",
     "output_type": "stream",
     "text": [
      "Best Hyperparameters: {'max_depth': None, 'min_samples_leaf': 1, 'min_samples_split': 5, 'n_estimators': 200}\n",
      "Random Forest Mean Squared Error: 29292.202487532235\n",
      "Random Forest R-squared: 0.021943310322680598\n",
      "Random Forest Mean Absolute Error: 124.57159016385661\n"
     ]
    }
   ],
   "source": [
    "from sklearn.ensemble import RandomForestRegressor\n",
    "from sklearn.model_selection import GridSearchCV\n",
    "from sklearn.preprocessing import StandardScaler\n",
    "\n",
    "# Features (X) and target variable (y)\n",
    "X = CG[['Num Players', 'Women', '% of Women', 'GMs', 'IMs', 'FMs', 'WGMs', 'WIMs', 'WFMs', 'Age Avg']]\n",
    "y = CG['FIDE Average']\n",
    "\n",
    "# Standardize numerical features\n",
    "scaler = StandardScaler()\n",
    "X_scaled = scaler.fit_transform(X)\n",
    "\n",
    "# Split the data into training and testing sets\n",
    "X_train, X_test, y_train, y_test = train_test_split(X_scaled, y, test_size=0.2, random_state=42)\n",
    "\n",
    "# Initialize the Random Forest Regressor\n",
    "rf_model = RandomForestRegressor()\n",
    "\n",
    "# Define hyperparameters to tune\n",
    "param_grid = {\n",
    "    'n_estimators': [50, 100, 200],\n",
    "    'max_depth': [None, 10, 20],\n",
    "    'min_samples_split': [2, 5, 10],\n",
    "    'min_samples_leaf': [1, 2, 4]\n",
    "}\n",
    "\n",
    "# Perform GridSearchCV for hyperparameter tuning\n",
    "grid_search = GridSearchCV(estimator=rf_model, param_grid=param_grid, cv=5, scoring='neg_mean_squared_error')\n",
    "grid_search.fit(X_train, y_train)\n",
    "\n",
    "# Get the best parameters\n",
    "best_params = grid_search.best_params_\n",
    "print(f'Best Hyperparameters: {best_params}')\n",
    "\n",
    "# Use the best model from GridSearchCV\n",
    "best_rf_model = grid_search.best_estimator_\n",
    "\n",
    "# Make predictions on the test set\n",
    "rf_predictions = best_rf_model.predict(X_test)\n",
    "\n",
    "# Evaluate the model\n",
    "rf_mse = mean_squared_error(y_test, rf_predictions)\n",
    "rf_r2 = r2_score(y_test, rf_predictions)\n",
    "rf_mae = mean_absolute_error(y_test, rf_predictions)\n",
    "\n",
    "print(f'Random Forest Mean Squared Error: {rf_mse}')\n",
    "print(f'Random Forest R-squared: {rf_r2}')\n",
    "print(f'Random Forest Mean Absolute Error: {rf_mae}')\n"
   ]
  },
  {
   "cell_type": "code",
   "execution_count": null,
   "id": "16b7f941",
   "metadata": {},
   "outputs": [],
   "source": []
  }
 ],
 "metadata": {
  "kernelspec": {
   "display_name": "Python 3 (ipykernel)",
   "language": "python",
   "name": "python3"
  },
  "language_info": {
   "codemirror_mode": {
    "name": "ipython",
    "version": 3
   },
   "file_extension": ".py",
   "mimetype": "text/x-python",
   "name": "python",
   "nbconvert_exporter": "python",
   "pygments_lexer": "ipython3",
   "version": "3.9.12"
  }
 },
 "nbformat": 4,
 "nbformat_minor": 5
}
